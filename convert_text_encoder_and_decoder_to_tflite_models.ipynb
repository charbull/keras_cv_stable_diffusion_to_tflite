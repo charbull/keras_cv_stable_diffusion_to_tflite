{
 "cells": [
  {
   "cell_type": "code",
   "execution_count": null,
   "id": "de53ef16-9441-427e-aa27-afe6f83c7d37",
   "metadata": {},
   "outputs": [],
   "source": [
    "import tensorflow as tf\n",
    "import keras_cv\n",
    "from tensorflow import keras"
   ]
  },
  {
   "cell_type": "code",
   "execution_count": null,
   "id": "efffa7b3-95fb-4d05-9aad-bc2fb01ff5bf",
   "metadata": {},
   "outputs": [],
   "source": [
    "# load the pipeline, get text_encoder and decoder\n",
    "\n",
    "model = keras_cv.models.StableDiffusion(img_width=512, img_height=512)\n",
    "text_encoder_model = model.text_encoder\n",
    "decoder_model = model.decoder"
   ]
  },
  {
   "cell_type": "code",
   "execution_count": null,
   "id": "e31cbe6c",
   "metadata": {},
   "outputs": [],
   "source": [
    "# convert the two models to tflite\n",
    "\n",
    "converter1 = tf.lite.TFLiteConverter.from_keras_model(text_encoder_model)\n",
    "tflite_text_encoder = converter1.convert()\n",
    "\n",
    "converter2 = tf.lite.TFLiteConverter.from_keras_model(decoder_model)\n",
    "tflite_decoder = converter2.convert()\n",
    "\n",
    "with open('/tmp/sd_text_encoder.tflite', 'wb') as f:\n",
    "    f.write(tflite_text_encoder)\n",
    "    \n",
    "with open('/tmp/sd_decoder.tflite', 'wb') as f:\n",
    "    f.write(tflite_decoder)"
   ]
  }
 ],
 "metadata": {
  "kernelspec": {
   "display_name": "Python 3 (ipykernel)",
   "language": "python",
   "name": "python3"
  },
  "language_info": {
   "codemirror_mode": {
    "name": "ipython",
    "version": 3
   },
   "file_extension": ".py",
   "mimetype": "text/x-python",
   "name": "python",
   "nbconvert_exporter": "python",
   "pygments_lexer": "ipython3",
   "version": "3.10.6"
  }
 },
 "nbformat": 4,
 "nbformat_minor": 5
}
